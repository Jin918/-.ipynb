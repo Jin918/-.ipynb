{
 "cells": [
  {
   "cell_type": "markdown",
   "id": "3ce29682",
   "metadata": {
    "ExecuteTime": {
     "end_time": "2024-04-08T07:15:43.150079Z",
     "start_time": "2024-04-08T07:15:43.119900Z"
    }
   },
   "source": [
    "#### 导入库"
   ]
  },
  {
   "cell_type": "code",
   "execution_count": 1,
   "id": "e62d0e1f",
   "metadata": {
    "ExecuteTime": {
     "end_time": "2024-04-08T09:15:04.564468Z",
     "start_time": "2024-04-08T09:15:03.467708Z"
    }
   },
   "outputs": [],
   "source": [
    "import numpy as np \n",
    "import pandas as pd\n",
    "import matplotlib.pyplot as plt\n",
    "\n",
    "from sklearn.datasets import load_breast_cancer\n",
    "from sklearn.tree import DecisionTreeClassifier as DTC\n",
    "\n",
    "from sklearn.model_selection import GridSearchCV\n",
    "from sklearn.model_selection import cross_val_score\n",
    "from sklearn.model_selection import train_test_split"
   ]
  },
  {
   "cell_type": "markdown",
   "id": "694c143f",
   "metadata": {},
   "source": [
    "#### 数据探索"
   ]
  },
  {
   "cell_type": "code",
   "execution_count": 2,
   "id": "ba0dda3f",
   "metadata": {
    "ExecuteTime": {
     "end_time": "2024-04-08T09:15:05.566248Z",
     "start_time": "2024-04-08T09:15:05.555451Z"
    }
   },
   "outputs": [],
   "source": [
    "data = load_breast_cancer()"
   ]
  },
  {
   "cell_type": "markdown",
   "id": "58bc10bc",
   "metadata": {
    "ExecuteTime": {
     "end_time": "2024-04-08T07:13:59.917796Z",
     "start_time": "2024-04-08T07:13:48.162971Z"
    }
   },
   "source": [
    "#### 划分数据集"
   ]
  },
  {
   "cell_type": "code",
   "execution_count": 3,
   "id": "4c2d85c3",
   "metadata": {
    "ExecuteTime": {
     "end_time": "2024-04-08T09:15:06.488127Z",
     "start_time": "2024-04-08T09:15:06.483047Z"
    }
   },
   "outputs": [],
   "source": [
    "X_train, X_test, y_train, y_test = train_test_split(data.data,data.target,test_size=0.3,random_state=42)"
   ]
  },
  {
   "cell_type": "markdown",
   "id": "08f52baf",
   "metadata": {},
   "source": [
    "#### 调参前模型效果"
   ]
  },
  {
   "cell_type": "code",
   "execution_count": 4,
   "id": "dfd127f6",
   "metadata": {
    "ExecuteTime": {
     "end_time": "2024-04-08T09:15:07.468890Z",
     "start_time": "2024-04-08T09:15:07.444320Z"
    }
   },
   "outputs": [
    {
     "data": {
      "text/plain": [
       "0.909620253164557"
      ]
     },
     "execution_count": 4,
     "metadata": {},
     "output_type": "execute_result"
    }
   ],
   "source": [
    "dtc = DTC(random_state=42)\n",
    "dtc = dtc.fit(X_train,y_train)\n",
    "\n",
    "score_pre = cross_val_score(dtc,X_train,y_train,cv=5).mean()\n",
    "score_pre"
   ]
  },
  {
   "cell_type": "markdown",
   "id": "4abdc5e2",
   "metadata": {},
   "source": [
    "#### 学习率调参"
   ]
  },
  {
   "cell_type": "code",
   "execution_count": 6,
   "id": "f9d13c65",
   "metadata": {
    "ExecuteTime": {
     "end_time": "2024-04-08T09:15:28.341780Z",
     "start_time": "2024-04-08T09:15:28.133018Z"
    }
   },
   "outputs": [
    {
     "name": "stdout",
     "output_type": "stream",
     "text": [
      "The_best_te:0.9649122807017544 \n",
      "The_best_tr:1.0\n"
     ]
    },
    {
     "data": {
      "image/png": "[encoded data removed]",
      "text/plain": [
       "<Figure size 640x480 with 1 Axes>"
      ]
     },
     "metadata": {},
     "output_type": "display_data"
    }
   ],
   "source": [
    "tr = []\n",
    "te = []\n",
    "\n",
    "for i in range(10):\n",
    "    dtc = DTC(random_state=42\n",
    "             ,max_depth=i+1)\n",
    "    dtc = dtc.fit(X_train, y_train)\n",
    "    score_tr = dtc.score(X_train, y_train)\n",
    "    score_te = dtc.score(X_test, y_test)\n",
    "    \n",
    "    tr.append(score_tr)\n",
    "    te.append(score_te)\n",
    "    \n",
    "print(f\"The_best_te:{max(te)} \\nThe_best_tr:{max(tr)}\")\n",
    "plt.plot(range(1,11),tr,color='red',label='train')\n",
    "plt.plot(range(1,11),te,color='blue',label='test')\n",
    "plt.xticks(range(1,11))\n",
    "plt.legend()\n",
    "plt.show()"
   ]
  },
  {
   "cell_type": "markdown",
   "id": "b21355a4",
   "metadata": {},
   "source": [
    "#### 网格搜索调参"
   ]
  },
  {
   "cell_type": "code",
   "execution_count": 7,
   "id": "644a4af7",
   "metadata": {
    "ExecuteTime": {
     "end_time": "2024-04-08T09:15:29.978880Z",
     "start_time": "2024-04-08T09:15:29.973060Z"
    }
   },
   "outputs": [],
   "source": [
    "params = {\n",
    "    \"criterion\": (\"gini\", \"entropy\"),\n",
    "    \"splitter\": (\"best\", \"random\"),\n",
    "    \"min_samples_split\": range(2, 12, 1),  # 分裂内部节点所需的最小样本数\n",
    "    \"min_samples_leaf\": range(1, 11, 1),  # 叶节点最小样本数\n",
    "    \"min_impurity_decrease\": np.linspace(0, 0.5, 10),  # 提前停止树增长的阈值\n",
    "    \"max_features\": np.arange(1, 20, 1)  # 每个分裂最多考虑的特征数\n",
    "}"
   ]
  },
  {
   "cell_type": "code",
   "execution_count": 8,
   "id": "3729dad0",
   "metadata": {
    "ExecuteTime": {
     "end_time": "2024-04-08T09:15:31.098866Z",
     "start_time": "2024-04-08T09:15:31.092658Z"
    }
   },
   "outputs": [],
   "source": [
    "dtc = DTC(max_depth=3,random_state=42)"
   ]
  },
  {
   "cell_type": "code",
   "execution_count": 9,
   "id": "2a36b755",
   "metadata": {
    "ExecuteTime": {
     "end_time": "2024-04-08T09:15:32.032066Z",
     "start_time": "2024-04-08T09:15:32.027032Z"
    }
   },
   "outputs": [],
   "source": [
    "GS = GridSearchCV(dtc,params,cv=10)"
   ]
  },
  {
   "cell_type": "code",
   "execution_count": 10,
   "id": "61cfac6b",
   "metadata": {
    "ExecuteTime": {
     "end_time": "2024-04-08T09:57:47.273982Z",
     "start_time": "2024-04-08T09:15:38.342482Z"
    }
   },
   "outputs": [
    {
     "data": {
      "text/html": [
       "<style>#sk-container-id-1 {color: black;background-color: white;}#sk-container-id-1 pre{padding: 0;}#sk-container-id-1 div.sk-toggleable {background-color: white;}#sk-container-id-1 label.sk-toggleable__label {cursor: pointer;display: block;width: 100%;margin-bottom: 0;padding: 0.3em;box-sizing: border-box;text-align: center;}#sk-container-id-1 label.sk-toggleable__label-arrow:before {content: \"▸\";float: left;margin-right: 0.25em;color: #696969;}#sk-container-id-1 label.sk-toggleable__label-arrow:hover:before {color: black;}#sk-container-id-1 div.sk-estimator:hover label.sk-toggleable__label-arrow:before {color: black;}#sk-container-id-1 div.sk-toggleable__content {max-height: 0;max-width: 0;overflow: hidden;text-align: left;background-color: #f0f8ff;}#sk-container-id-1 div.sk-toggleable__content pre {margin: 0.2em;color: black;border-radius: 0.25em;background-color: #f0f8ff;}#sk-container-id-1 input.sk-toggleable__control:checked~div.sk-toggleable__content {max-height: 200px;max-width: 100%;overflow: auto;}#sk-container-id-1 input.sk-toggleable__control:checked~label.sk-toggleable__label-arrow:before {content: \"▾\";}#sk-container-id-1 div.sk-estimator input.sk-toggleable__control:checked~label.sk-toggleable__label {background-color: #d4ebff;}#sk-container-id-1 div.sk-label input.sk-toggleable__control:checked~label.sk-toggleable__label {background-color: #d4ebff;}#sk-container-id-1 input.sk-hidden--visually {border: 0;clip: rect(1px 1px 1px 1px);clip: rect(1px, 1px, 1px, 1px);height: 1px;margin: -1px;overflow: hidden;padding: 0;position: absolute;width: 1px;}#sk-container-id-1 div.sk-estimator {font-family: monospace;background-color: #f0f8ff;border: 1px dotted black;border-radius: 0.25em;box-sizing: border-box;margin-bottom: 0.5em;}#sk-container-id-1 div.sk-estimator:hover {background-color: #d4ebff;}#sk-container-id-1 div.sk-parallel-item::after {content: \"\";width: 100%;border-bottom: 1px solid gray;flex-grow: 1;}#sk-container-id-1 div.sk-label:hover label.sk-toggleable__label {background-color: #d4ebff;}#sk-container-id-1 div.sk-serial::before {content: \"\";position: absolute;border-left: 1px solid gray;box-sizing: border-box;top: 0;bottom: 0;left: 50%;z-index: 0;}#sk-container-id-1 div.sk-serial {display: flex;flex-direction: column;align-items: center;background-color: white;padding-right: 0.2em;padding-left: 0.2em;position: relative;}#sk-container-id-1 div.sk-item {position: relative;z-index: 1;}#sk-container-id-1 div.sk-parallel {display: flex;align-items: stretch;justify-content: center;background-color: white;position: relative;}#sk-container-id-1 div.sk-item::before, #sk-container-id-1 div.sk-parallel-item::before {content: \"\";position: absolute;border-left: 1px solid gray;box-sizing: border-box;top: 0;bottom: 0;left: 50%;z-index: -1;}#sk-container-id-1 div.sk-parallel-item {display: flex;flex-direction: column;z-index: 1;position: relative;background-color: white;}#sk-container-id-1 div.sk-parallel-item:first-child::after {align-self: flex-end;width: 50%;}#sk-container-id-1 div.sk-parallel-item:last-child::after {align-self: flex-start;width: 50%;}#sk-container-id-1 div.sk-parallel-item:only-child::after {width: 0;}#sk-container-id-1 div.sk-dashed-wrapped {border: 1px dashed gray;margin: 0 0.4em 0.5em 0.4em;box-sizing: border-box;padding-bottom: 0.4em;background-color: white;}#sk-container-id-1 div.sk-label label {font-family: monospace;font-weight: bold;display: inline-block;line-height: 1.2em;}#sk-container-id-1 div.sk-label-container {text-align: center;}#sk-container-id-1 div.sk-container {/* jupyter's `normalize.less` sets `[hidden] { display: none; }` but bootstrap.min.css set `[hidden] { display: none !important; }` so we also need the `!important` here to be able to override the default hidden behavior on the sphinx rendered scikit-learn.org. See: https://github.com/scikit-learn/scikit-learn/issues/21755 */display: inline-block !important;position: relative;}#sk-container-id-1 div.sk-text-repr-fallback {display: none;}</style><div id=\"sk-container-id-1\" class=\"sk-top-container\"><div class=\"sk-text-repr-fallback\"><pre>GridSearchCV(cv=10,\n",
       "             estimator=DecisionTreeClassifier(max_depth=3, random_state=42),\n",
       "             param_grid={&#x27;criterion&#x27;: (&#x27;gini&#x27;, &#x27;entropy&#x27;),\n",
       "                         &#x27;max_features&#x27;: array([ 1,  2,  3,  4,  5,  6,  7,  8,  9, 10, 11, 12, 13, 14, 15, 16, 17,\n",
       "       18, 19]),\n",
       "                         &#x27;min_impurity_decrease&#x27;: array([0.        , 0.05555556, 0.11111111, 0.16666667, 0.22222222,\n",
       "       0.27777778, 0.33333333, 0.38888889, 0.44444444, 0.5       ]),\n",
       "                         &#x27;min_samples_leaf&#x27;: range(1, 11),\n",
       "                         &#x27;min_samples_split&#x27;: range(2, 12),\n",
       "                         &#x27;splitter&#x27;: (&#x27;best&#x27;, &#x27;random&#x27;)})</pre><b>In a Jupyter environment, please rerun this cell to show the HTML representation or trust the notebook. <br />On GitHub, the HTML representation is unable to render, please try loading this page with nbviewer.org.</b></div><div class=\"sk-container\" hidden><div class=\"sk-item sk-dashed-wrapped\"><div class=\"sk-label-container\"><div class=\"sk-label sk-toggleable\"><input class=\"sk-toggleable__control sk-hidden--visually\" id=\"sk-estimator-id-1\" type=\"checkbox\" ><label for=\"sk-estimator-id-1\" class=\"sk-toggleable__label sk-toggleable__label-arrow\">GridSearchCV</label><div class=\"sk-toggleable__content\"><pre>GridSearchCV(cv=10,\n",
       "             estimator=DecisionTreeClassifier(max_depth=3, random_state=42),\n",
       "             param_grid={&#x27;criterion&#x27;: (&#x27;gini&#x27;, &#x27;entropy&#x27;),\n",
       "                         &#x27;max_features&#x27;: array([ 1,  2,  3,  4,  5,  6,  7,  8,  9, 10, 11, 12, 13, 14, 15, 16, 17,\n",
       "       18, 19]),\n",
       "                         &#x27;min_impurity_decrease&#x27;: array([0.        , 0.05555556, 0.11111111, 0.16666667, 0.22222222,\n",
       "       0.27777778, 0.33333333, 0.38888889, 0.44444444, 0.5       ]),\n",
       "                         &#x27;min_samples_leaf&#x27;: range(1, 11),\n",
       "                         &#x27;min_samples_split&#x27;: range(2, 12),\n",
       "                         &#x27;splitter&#x27;: (&#x27;best&#x27;, &#x27;random&#x27;)})</pre></div></div></div><div class=\"sk-parallel\"><div class=\"sk-parallel-item\"><div class=\"sk-item\"><div class=\"sk-label-container\"><div class=\"sk-label sk-toggleable\"><input class=\"sk-toggleable__control sk-hidden--visually\" id=\"sk-estimator-id-2\" type=\"checkbox\" ><label for=\"sk-estimator-id-2\" class=\"sk-toggleable__label sk-toggleable__label-arrow\">estimator: DecisionTreeClassifier</label><div class=\"sk-toggleable__content\"><pre>DecisionTreeClassifier(max_depth=3, random_state=42)</pre></div></div></div><div class=\"sk-serial\"><div class=\"sk-item\"><div class=\"sk-estimator sk-toggleable\"><input class=\"sk-toggleable__control sk-hidden--visually\" id=\"sk-estimator-id-3\" type=\"checkbox\" ><label for=\"sk-estimator-id-3\" class=\"sk-toggleable__label sk-toggleable__label-arrow\">DecisionTreeClassifier</label><div class=\"sk-toggleable__content\"><pre>DecisionTreeClassifier(max_depth=3, random_state=42)</pre></div></div></div></div></div></div></div></div></div></div>"
      ],
      "text/plain": [
       "GridSearchCV(cv=10,\n",
       "             estimator=DecisionTreeClassifier(max_depth=3, random_state=42),\n",
       "             param_grid={'criterion': ('gini', 'entropy'),\n",
       "                         'max_features': array([ 1,  2,  3,  4,  5,  6,  7,  8,  9, 10, 11, 12, 13, 14, 15, 16, 17,\n",
       "       18, 19]),\n",
       "                         'min_impurity_decrease': array([0.        , 0.05555556, 0.11111111, 0.16666667, 0.22222222,\n",
       "       0.27777778, 0.33333333, 0.38888889, 0.44444444, 0.5       ]),\n",
       "                         'min_samples_leaf': range(1, 11),\n",
       "                         'min_samples_split': range(2, 12),\n",
       "                         'splitter': ('best', 'random')})"
      ]
     },
     "execution_count": 10,
     "metadata": {},
     "output_type": "execute_result"
    }
   ],
   "source": [
    "GS.fit(X_train,y_train)"
   ]
  },
  {
   "cell_type": "code",
   "execution_count": 11,
   "id": "8376599e",
   "metadata": {
    "ExecuteTime": {
     "end_time": "2024-04-08T09:59:53.670746Z",
     "start_time": "2024-04-08T09:59:53.657281Z"
    }
   },
   "outputs": [
    {
     "data": {
      "text/plain": [
       "{'criterion': 'entropy',\n",
       " 'max_features': 19,\n",
       " 'min_impurity_decrease': 0.0,\n",
       " 'min_samples_leaf': 5,\n",
       " 'min_samples_split': 2,\n",
       " 'splitter': 'best'}"
      ]
     },
     "execution_count": 11,
     "metadata": {},
     "output_type": "execute_result"
    }
   ],
   "source": [
    "GS.best_params_"
   ]
  },
  {
   "cell_type": "code",
   "execution_count": 49,
   "id": "b93162de",
   "metadata": {
    "ExecuteTime": {
     "end_time": "2024-04-08T08:43:30.091253Z",
     "start_time": "2024-04-08T08:43:30.084146Z"
    }
   },
   "outputs": [
    {
     "data": {
      "text/plain": [
       "0.9371794871794872"
      ]
     },
     "execution_count": 49,
     "metadata": {},
     "output_type": "execute_result"
    }
   ],
   "source": [
    "GS.best_score_"
   ]
  },
  {
   "cell_type": "code",
   "execution_count": 12,
   "id": "c43d0efc",
   "metadata": {
    "ExecuteTime": {
     "end_time": "2024-04-08T10:00:44.447211Z",
     "start_time": "2024-04-08T10:00:44.428983Z"
    }
   },
   "outputs": [],
   "source": [
    "dtc = DTC(max_depth=3\n",
    "          ,criterion='gini'\n",
    "          ,max_features=19\n",
    "          ,min_samples_leaf=5\n",
    "          ,min_samples_split=2\n",
    "          ,splitter='random'\n",
    "          ,random_state=42)\n",
    "\n",
    "dtc = dtc.fit(X_train,y_train)\n",
    "dtc_tr_score = dtc.score(X_train,y_train)\n",
    "dtc_te_score = dtc.score(X_test,y_test)"
   ]
  },
  {
   "cell_type": "code",
   "execution_count": 13,
   "id": "9c910940",
   "metadata": {
    "ExecuteTime": {
     "end_time": "2024-04-08T10:00:45.363303Z",
     "start_time": "2024-04-08T10:00:45.350362Z"
    }
   },
   "outputs": [
    {
     "data": {
      "text/plain": [
       "0.9195979899497487"
      ]
     },
     "execution_count": 13,
     "metadata": {},
     "output_type": "execute_result"
    }
   ],
   "source": [
    "dtc_tr_score"
   ]
  },
  {
   "cell_type": "code",
   "execution_count": 14,
   "id": "0435ad03",
   "metadata": {
    "ExecuteTime": {
     "end_time": "2024-04-08T10:00:45.900780Z",
     "start_time": "2024-04-08T10:00:45.887652Z"
    }
   },
   "outputs": [
    {
     "data": {
      "text/plain": [
       "0.9181286549707602"
      ]
     },
     "execution_count": 14,
     "metadata": {},
     "output_type": "execute_result"
    }
   ],
   "source": [
    "dtc_te_score"
   ]
  },
  {
   "cell_type": "markdown",
   "id": "e0cff20d",
   "metadata": {
    "ExecuteTime": {
     "end_time": "2024-04-08T08:50:28.699509Z",
     "start_time": "2024-04-08T08:50:28.689041Z"
    }
   },
   "source": [
    "#### 树的可视化"
   ]
  },
  {
   "cell_type": "code",
   "execution_count": 8,
   "id": "908cd09c",
   "metadata": {
    "ExecuteTime": {
     "end_time": "2024-04-08T08:55:36.048371Z",
     "start_time": "2024-04-08T08:55:36.042373Z"
    }
   },
   "outputs": [],
   "source": [
    "from sklearn import tree\n",
    "import graphviz\n",
    "\n",
    "# import os\n",
    "# path_to_graphviz = r\"E:\\Graphviz\\bin\" \n",
    "# os.environ[\"PATH\"] += os.pathsep + path_to_graphviz"
   ]
  },
  {
   "cell_type": "code",
   "execution_count": 9,
   "id": "6367f82e",
   "metadata": {
    "ExecuteTime": {
     "end_time": "2024-04-08T08:55:36.561246Z",
     "start_time": "2024-04-08T08:55:36.548421Z"
    }
   },
   "outputs": [],
   "source": [
    "dtc = tree.DecisionTreeClassifier(max_depth=3\n",
    "                                  ,criterion='gini'\n",
    "                                  ,random_state=42)\n",
    "\n",
    "dtc = dtc.fit(X_train,y_train)"
   ]
  },
  {
   "cell_type": "code",
   "execution_count": 10,
   "id": "b5250dae",
   "metadata": {
    "ExecuteTime": {
     "end_time": "2024-04-08T08:55:41.377658Z",
     "start_time": "2024-04-08T08:55:41.299845Z"
    }
   },
   "outputs": [
    {
     "data": {
      "image/svg+xml": [
       "<?xml version=\"1.0\" encoding=\"UTF-8\" standalone=\"no\"?>\n",
       "<!DOCTYPE svg PUBLIC \"-//W3C//DTD SVG 1.1//EN\"\n",
       " \"http://www.w3.org/Graphics/SVG/1.1/DTD/svg11.dtd\">\n",
       "<!-- Generated by graphviz version 10.0.1 (20240210.2158)\n",
       " -->\n",
       "<!-- Title: Tree Pages: 1 -->\n",
       "<svg width=\"1068pt\" height=\"462pt\"\n",
       " viewBox=\"0.00 0.00 1067.75 461.50\" xmlns=\"http://www.w3.org/2000/svg\" xmlns:xlink=\"http://www.w3.org/1999/xlink\">\n",
       "<g id=\"graph0\" class=\"graph\" transform=\"scale(1 1) rotate(0) translate(4 457.5)\">\n",
       "<title>Tree</title>\n",
       "<polygon fill=\"white\" stroke=\"none\" points=\"-4,4 -4,-457.5 1063.75,-457.5 1063.75,4 -4,4\"/>\n",
       "<!-- 0 -->\n",
       "<g id=\"node1\" class=\"node\">\n",
       "<title>0</title>\n",
       "<path fill=\"#afd8f5\" stroke=\"black\" d=\"M602.88,-453.5C602.88,-453.5 415.88,-453.5 415.88,-453.5 409.88,-453.5 403.88,-447.5 403.88,-441.5 403.88,-441.5 403.88,-375 403.88,-375 403.88,-369 409.88,-363 415.88,-363 415.88,-363 602.88,-363 602.88,-363 608.88,-363 614.88,-369 614.88,-375 614.88,-375 614.88,-441.5 614.88,-441.5 614.88,-447.5 608.88,-453.5 602.88,-453.5\"/>\n",
       "<text text-anchor=\"middle\" x=\"509.38\" y=\"-436.2\" font-family=\"Helvetica,sans-Serif\" font-size=\"14.00\">mean concave points &lt;= 0.051</text>\n",
       "<text text-anchor=\"middle\" x=\"509.38\" y=\"-419.7\" font-family=\"Helvetica,sans-Serif\" font-size=\"14.00\">gini = 0.468</text>\n",
       "<text text-anchor=\"middle\" x=\"509.38\" y=\"-403.2\" font-family=\"Helvetica,sans-Serif\" font-size=\"14.00\">samples = 398</text>\n",
       "<text text-anchor=\"middle\" x=\"509.38\" y=\"-386.7\" font-family=\"Helvetica,sans-Serif\" font-size=\"14.00\">value = [149, 249]</text>\n",
       "<text text-anchor=\"middle\" x=\"509.38\" y=\"-370.2\" font-family=\"Helvetica,sans-Serif\" font-size=\"14.00\">class = benign</text>\n",
       "</g>\n",
       "<!-- 1 -->\n",
       "<g id=\"node2\" class=\"node\">\n",
       "<title>1</title>\n",
       "<path fill=\"#44a2e6\" stroke=\"black\" d=\"M472.62,-327C472.62,-327 344.12,-327 344.12,-327 338.12,-327 332.12,-321 332.12,-315 332.12,-315 332.12,-248.5 332.12,-248.5 332.12,-242.5 338.12,-236.5 344.12,-236.5 344.12,-236.5 472.62,-236.5 472.62,-236.5 478.62,-236.5 484.62,-242.5 484.62,-248.5 484.62,-248.5 484.62,-315 484.62,-315 484.62,-321 478.62,-327 472.62,-327\"/>\n",
       "<text text-anchor=\"middle\" x=\"408.38\" y=\"-309.7\" font-family=\"Helvetica,sans-Serif\" font-size=\"14.00\">worst radius &lt;= 16.83</text>\n",
       "<text text-anchor=\"middle\" x=\"408.38\" y=\"-293.2\" font-family=\"Helvetica,sans-Serif\" font-size=\"14.00\">gini = 0.1</text>\n",
       "<text text-anchor=\"middle\" x=\"408.38\" y=\"-276.7\" font-family=\"Helvetica,sans-Serif\" font-size=\"14.00\">samples = 245</text>\n",
       "<text text-anchor=\"middle\" x=\"408.38\" y=\"-260.2\" font-family=\"Helvetica,sans-Serif\" font-size=\"14.00\">value = [13, 232]</text>\n",
       "<text text-anchor=\"middle\" x=\"408.38\" y=\"-243.7\" font-family=\"Helvetica,sans-Serif\" font-size=\"14.00\">class = benign</text>\n",
       "</g>\n",
       "<!-- 0&#45;&gt;1 -->\n",
       "<g id=\"edge1\" class=\"edge\">\n",
       "<title>0&#45;&gt;1</title>\n",
       "<path fill=\"none\" stroke=\"black\" d=\"M473.2,-362.65C466.23,-354.07 458.88,-345 451.71,-336.17\"/>\n",
       "<polygon fill=\"black\" stroke=\"black\" points=\"454.61,-334.19 445.59,-328.63 449.18,-338.6 454.61,-334.19\"/>\n",
       "<text text-anchor=\"middle\" x=\"442.05\" y=\"-347.27\" font-family=\"Helvetica,sans-Serif\" font-size=\"14.00\">True</text>\n",
       "</g>\n",
       "<!-- 8 -->\n",
       "<g id=\"node9\" class=\"node\">\n",
       "<title>8</title>\n",
       "<path fill=\"#e89152\" stroke=\"black\" d=\"M700,-327C700,-327 558.75,-327 558.75,-327 552.75,-327 546.75,-321 546.75,-315 546.75,-315 546.75,-248.5 546.75,-248.5 546.75,-242.5 552.75,-236.5 558.75,-236.5 558.75,-236.5 700,-236.5 700,-236.5 706,-236.5 712,-242.5 712,-248.5 712,-248.5 712,-315 712,-315 712,-321 706,-327 700,-327\"/>\n",
       "<text text-anchor=\"middle\" x=\"629.38\" y=\"-309.7\" font-family=\"Helvetica,sans-Serif\" font-size=\"14.00\">worst texture &lt;= 20.405</text>\n",
       "<text text-anchor=\"middle\" x=\"629.38\" y=\"-293.2\" font-family=\"Helvetica,sans-Serif\" font-size=\"14.00\">gini = 0.198</text>\n",
       "<text text-anchor=\"middle\" x=\"629.38\" y=\"-276.7\" font-family=\"Helvetica,sans-Serif\" font-size=\"14.00\">samples = 153</text>\n",
       "<text text-anchor=\"middle\" x=\"629.38\" y=\"-260.2\" font-family=\"Helvetica,sans-Serif\" font-size=\"14.00\">value = [136, 17]</text>\n",
       "<text text-anchor=\"middle\" x=\"629.38\" y=\"-243.7\" font-family=\"Helvetica,sans-Serif\" font-size=\"14.00\">class = malignant</text>\n",
       "</g>\n",
       "<!-- 0&#45;&gt;8 -->\n",
       "<g id=\"edge8\" class=\"edge\">\n",
       "<title>0&#45;&gt;8</title>\n",
       "<path fill=\"none\" stroke=\"black\" d=\"M552.36,-362.65C560.8,-353.89 569.74,-344.62 578.41,-335.62\"/>\n",
       "<polygon fill=\"black\" stroke=\"black\" points=\"580.82,-338.17 585.24,-328.54 575.78,-333.31 580.82,-338.17\"/>\n",
       "<text text-anchor=\"middle\" x=\"586.75\" y=\"-347.4\" font-family=\"Helvetica,sans-Serif\" font-size=\"14.00\">False</text>\n",
       "</g>\n",
       "<!-- 2 -->\n",
       "<g id=\"node3\" class=\"node\">\n",
       "<title>2</title>\n",
       "<path fill=\"#3d9fe6\" stroke=\"black\" d=\"M246.38,-200.5C246.38,-200.5 140.38,-200.5 140.38,-200.5 134.38,-200.5 128.38,-194.5 128.38,-188.5 128.38,-188.5 128.38,-122 128.38,-122 128.38,-116 134.38,-110 140.38,-110 140.38,-110 246.38,-110 246.38,-110 252.38,-110 258.38,-116 258.38,-122 258.38,-122 258.38,-188.5 258.38,-188.5 258.38,-194.5 252.38,-200.5 246.38,-200.5\"/>\n",
       "<text text-anchor=\"middle\" x=\"193.38\" y=\"-183.2\" font-family=\"Helvetica,sans-Serif\" font-size=\"14.00\">area error &lt;= 48.7</text>\n",
       "<text text-anchor=\"middle\" x=\"193.38\" y=\"-166.7\" font-family=\"Helvetica,sans-Serif\" font-size=\"14.00\">gini = 0.043</text>\n",
       "<text text-anchor=\"middle\" x=\"193.38\" y=\"-150.2\" font-family=\"Helvetica,sans-Serif\" font-size=\"14.00\">samples = 230</text>\n",
       "<text text-anchor=\"middle\" x=\"193.38\" y=\"-133.7\" font-family=\"Helvetica,sans-Serif\" font-size=\"14.00\">value = [5, 225]</text>\n",
       "<text text-anchor=\"middle\" x=\"193.38\" y=\"-117.2\" font-family=\"Helvetica,sans-Serif\" font-size=\"14.00\">class = benign</text>\n",
       "</g>\n",
       "<!-- 1&#45;&gt;2 -->\n",
       "<g id=\"edge2\" class=\"edge\">\n",
       "<title>1&#45;&gt;2</title>\n",
       "<path fill=\"none\" stroke=\"black\" d=\"M331.67,-236.33C311.15,-224.45 288.99,-211.62 268.55,-199.78\"/>\n",
       "<polygon fill=\"black\" stroke=\"black\" points=\"270.39,-196.8 259.98,-194.82 266.88,-202.86 270.39,-196.8\"/>\n",
       "</g>\n",
       "<!-- 5 -->\n",
       "<g id=\"node6\" class=\"node\">\n",
       "<title>5</title>\n",
       "<path fill=\"#fcefe6\" stroke=\"black\" d=\"M475.62,-200.5C475.62,-200.5 341.12,-200.5 341.12,-200.5 335.12,-200.5 329.12,-194.5 329.12,-188.5 329.12,-188.5 329.12,-122 329.12,-122 329.12,-116 335.12,-110 341.12,-110 341.12,-110 475.62,-110 475.62,-110 481.62,-110 487.62,-116 487.62,-122 487.62,-122 487.62,-188.5 487.62,-188.5 487.62,-194.5 481.62,-200.5 475.62,-200.5\"/>\n",
       "<text text-anchor=\"middle\" x=\"408.38\" y=\"-183.2\" font-family=\"Helvetica,sans-Serif\" font-size=\"14.00\">mean texture &lt;= 16.19</text>\n",
       "<text text-anchor=\"middle\" x=\"408.38\" y=\"-166.7\" font-family=\"Helvetica,sans-Serif\" font-size=\"14.00\">gini = 0.498</text>\n",
       "<text text-anchor=\"middle\" x=\"408.38\" y=\"-150.2\" font-family=\"Helvetica,sans-Serif\" font-size=\"14.00\">samples = 15</text>\n",
       "<text text-anchor=\"middle\" x=\"408.38\" y=\"-133.7\" font-family=\"Helvetica,sans-Serif\" font-size=\"14.00\">value = [8, 7]</text>\n",
       "<text text-anchor=\"middle\" x=\"408.38\" y=\"-117.2\" font-family=\"Helvetica,sans-Serif\" font-size=\"14.00\">class = malignant</text>\n",
       "</g>\n",
       "<!-- 1&#45;&gt;5 -->\n",
       "<g id=\"edge5\" class=\"edge\">\n",
       "<title>1&#45;&gt;5</title>\n",
       "<path fill=\"none\" stroke=\"black\" d=\"M408.38,-236.15C408.38,-228.47 408.38,-220.39 408.38,-212.44\"/>\n",
       "<polygon fill=\"black\" stroke=\"black\" points=\"411.88,-212.47 408.38,-202.47 404.88,-212.47 411.88,-212.47\"/>\n",
       "</g>\n",
       "<!-- 3 -->\n",
       "<g id=\"node4\" class=\"node\">\n",
       "<title>3</title>\n",
       "<path fill=\"#3c9ee5\" stroke=\"black\" d=\"M100.75,-74C100.75,-74 12,-74 12,-74 6,-74 0,-68 0,-62 0,-62 0,-12 0,-12 0,-6 6,0 12,0 12,0 100.75,0 100.75,0 106.75,0 112.75,-6 112.75,-12 112.75,-12 112.75,-62 112.75,-62 112.75,-68 106.75,-74 100.75,-74\"/>\n",
       "<text text-anchor=\"middle\" x=\"56.38\" y=\"-56.7\" font-family=\"Helvetica,sans-Serif\" font-size=\"14.00\">gini = 0.026</text>\n",
       "<text text-anchor=\"middle\" x=\"56.38\" y=\"-40.2\" font-family=\"Helvetica,sans-Serif\" font-size=\"14.00\">samples = 227</text>\n",
       "<text text-anchor=\"middle\" x=\"56.38\" y=\"-23.7\" font-family=\"Helvetica,sans-Serif\" font-size=\"14.00\">value = [3, 224]</text>\n",
       "<text text-anchor=\"middle\" x=\"56.38\" y=\"-7.2\" font-family=\"Helvetica,sans-Serif\" font-size=\"14.00\">class = benign</text>\n",
       "</g>\n",
       "<!-- 2&#45;&gt;3 -->\n",
       "<g id=\"edge3\" class=\"edge\">\n",
       "<title>2&#45;&gt;3</title>\n",
       "<path fill=\"none\" stroke=\"black\" d=\"M140.8,-109.64C129.96,-100.44 118.56,-90.77 107.77,-81.61\"/>\n",
       "<polygon fill=\"black\" stroke=\"black\" points=\"110.31,-79.17 100.42,-75.37 105.78,-84.51 110.31,-79.17\"/>\n",
       "</g>\n",
       "<!-- 4 -->\n",
       "<g id=\"node5\" class=\"node\">\n",
       "<title>4</title>\n",
       "<path fill=\"#f2c09c\" stroke=\"black\" d=\"M243.75,-74C243.75,-74 143,-74 143,-74 137,-74 131,-68 131,-62 131,-62 131,-12 131,-12 131,-6 137,0 143,0 143,0 243.75,0 243.75,0 249.75,0 255.75,-6 255.75,-12 255.75,-12 255.75,-62 255.75,-62 255.75,-68 249.75,-74 243.75,-74\"/>\n",
       "<text text-anchor=\"middle\" x=\"193.38\" y=\"-56.7\" font-family=\"Helvetica,sans-Serif\" font-size=\"14.00\">gini = 0.444</text>\n",
       "<text text-anchor=\"middle\" x=\"193.38\" y=\"-40.2\" font-family=\"Helvetica,sans-Serif\" font-size=\"14.00\">samples = 3</text>\n",
       "<text text-anchor=\"middle\" x=\"193.38\" y=\"-23.7\" font-family=\"Helvetica,sans-Serif\" font-size=\"14.00\">value = [2, 1]</text>\n",
       "<text text-anchor=\"middle\" x=\"193.38\" y=\"-7.2\" font-family=\"Helvetica,sans-Serif\" font-size=\"14.00\">class = malignant</text>\n",
       "</g>\n",
       "<!-- 2&#45;&gt;4 -->\n",
       "<g id=\"edge4\" class=\"edge\">\n",
       "<title>2&#45;&gt;4</title>\n",
       "<path fill=\"none\" stroke=\"black\" d=\"M193.38,-109.64C193.38,-101.81 193.38,-93.63 193.38,-85.72\"/>\n",
       "<polygon fill=\"black\" stroke=\"black\" points=\"196.88,-85.91 193.38,-75.91 189.88,-85.91 196.88,-85.91\"/>\n",
       "</g>\n",
       "<!-- 6 -->\n",
       "<g id=\"node7\" class=\"node\">\n",
       "<title>6</title>\n",
       "<path fill=\"#399de5\" stroke=\"black\" d=\"M369.12,-74C369.12,-74 285.62,-74 285.62,-74 279.62,-74 273.62,-68 273.62,-62 273.62,-62 273.62,-12 273.62,-12 273.62,-6 279.62,0 285.62,0 285.62,0 369.12,0 369.12,0 375.12,0 381.12,-6 381.12,-12 381.12,-12 381.12,-62 381.12,-62 381.12,-68 375.12,-74 369.12,-74\"/>\n",
       "<text text-anchor=\"middle\" x=\"327.38\" y=\"-56.7\" font-family=\"Helvetica,sans-Serif\" font-size=\"14.00\">gini = 0.0</text>\n",
       "<text text-anchor=\"middle\" x=\"327.38\" y=\"-40.2\" font-family=\"Helvetica,sans-Serif\" font-size=\"14.00\">samples = 5</text>\n",
       "<text text-anchor=\"middle\" x=\"327.38\" y=\"-23.7\" font-family=\"Helvetica,sans-Serif\" font-size=\"14.00\">value = [0, 5]</text>\n",
       "<text text-anchor=\"middle\" x=\"327.38\" y=\"-7.2\" font-family=\"Helvetica,sans-Serif\" font-size=\"14.00\">class = benign</text>\n",
       "</g>\n",
       "<!-- 5&#45;&gt;6 -->\n",
       "<g id=\"edge6\" class=\"edge\">\n",
       "<title>5&#45;&gt;6</title>\n",
       "<path fill=\"none\" stroke=\"black\" d=\"M377.29,-109.64C371.39,-101.17 365.21,-92.3 359.28,-83.8\"/>\n",
       "<polygon fill=\"black\" stroke=\"black\" points=\"362.19,-81.84 353.6,-75.64 356.44,-85.84 362.19,-81.84\"/>\n",
       "</g>\n",
       "<!-- 7 -->\n",
       "<g id=\"node8\" class=\"node\">\n",
       "<title>7</title>\n",
       "<path fill=\"#eca06a\" stroke=\"black\" d=\"M511.75,-74C511.75,-74 411,-74 411,-74 405,-74 399,-68 399,-62 399,-62 399,-12 399,-12 399,-6 405,0 411,0 411,0 511.75,0 511.75,0 517.75,0 523.75,-6 523.75,-12 523.75,-12 523.75,-62 523.75,-62 523.75,-68 517.75,-74 511.75,-74\"/>\n",
       "<text text-anchor=\"middle\" x=\"461.38\" y=\"-56.7\" font-family=\"Helvetica,sans-Serif\" font-size=\"14.00\">gini = 0.32</text>\n",
       "<text text-anchor=\"middle\" x=\"461.38\" y=\"-40.2\" font-family=\"Helvetica,sans-Serif\" font-size=\"14.00\">samples = 10</text>\n",
       "<text text-anchor=\"middle\" x=\"461.38\" y=\"-23.7\" font-family=\"Helvetica,sans-Serif\" font-size=\"14.00\">value = [8, 2]</text>\n",
       "<text text-anchor=\"middle\" x=\"461.38\" y=\"-7.2\" font-family=\"Helvetica,sans-Serif\" font-size=\"14.00\">class = malignant</text>\n",
       "</g>\n",
       "<!-- 5&#45;&gt;7 -->\n",
       "<g id=\"edge7\" class=\"edge\">\n",
       "<title>5&#45;&gt;7</title>\n",
       "<path fill=\"none\" stroke=\"black\" d=\"M428.71,-109.64C432.45,-101.44 436.36,-92.87 440.12,-84.62\"/>\n",
       "<polygon fill=\"black\" stroke=\"black\" points=\"443.19,-86.32 444.15,-75.77 436.82,-83.42 443.19,-86.32\"/>\n",
       "</g>\n",
       "<!-- 9 -->\n",
       "<g id=\"node10\" class=\"node\">\n",
       "<title>9</title>\n",
       "<path fill=\"#88c4ef\" stroke=\"black\" d=\"M722.88,-200.5C722.88,-200.5 535.88,-200.5 535.88,-200.5 529.88,-200.5 523.88,-194.5 523.88,-188.5 523.88,-188.5 523.88,-122 523.88,-122 523.88,-116 529.88,-110 535.88,-110 535.88,-110 722.88,-110 722.88,-110 728.88,-110 734.88,-116 734.88,-122 734.88,-122 734.88,-188.5 734.88,-188.5 734.88,-194.5 728.88,-200.5 722.88,-200.5\"/>\n",
       "<text text-anchor=\"middle\" x=\"629.38\" y=\"-183.2\" font-family=\"Helvetica,sans-Serif\" font-size=\"14.00\">mean concave points &lt;= 0.091</text>\n",
       "<text text-anchor=\"middle\" x=\"629.38\" y=\"-166.7\" font-family=\"Helvetica,sans-Serif\" font-size=\"14.00\">gini = 0.408</text>\n",
       "<text text-anchor=\"middle\" x=\"629.38\" y=\"-150.2\" font-family=\"Helvetica,sans-Serif\" font-size=\"14.00\">samples = 14</text>\n",
       "<text text-anchor=\"middle\" x=\"629.38\" y=\"-133.7\" font-family=\"Helvetica,sans-Serif\" font-size=\"14.00\">value = [4, 10]</text>\n",
       "<text text-anchor=\"middle\" x=\"629.38\" y=\"-117.2\" font-family=\"Helvetica,sans-Serif\" font-size=\"14.00\">class = benign</text>\n",
       "</g>\n",
       "<!-- 8&#45;&gt;9 -->\n",
       "<g id=\"edge9\" class=\"edge\">\n",
       "<title>8&#45;&gt;9</title>\n",
       "<path fill=\"none\" stroke=\"black\" d=\"M629.38,-236.15C629.38,-228.47 629.38,-220.39 629.38,-212.44\"/>\n",
       "<polygon fill=\"black\" stroke=\"black\" points=\"632.88,-212.47 629.38,-202.47 625.88,-212.47 632.88,-212.47\"/>\n",
       "</g>\n",
       "<!-- 12 -->\n",
       "<g id=\"node13\" class=\"node\">\n",
       "<title>12</title>\n",
       "<path fill=\"#e68844\" stroke=\"black\" d=\"M926.5,-200.5C926.5,-200.5 800.25,-200.5 800.25,-200.5 794.25,-200.5 788.25,-194.5 788.25,-188.5 788.25,-188.5 788.25,-122 788.25,-122 788.25,-116 794.25,-110 800.25,-110 800.25,-110 926.5,-110 926.5,-110 932.5,-110 938.5,-116 938.5,-122 938.5,-122 938.5,-188.5 938.5,-188.5 938.5,-194.5 932.5,-200.5 926.5,-200.5\"/>\n",
       "<text text-anchor=\"middle\" x=\"863.38\" y=\"-183.2\" font-family=\"Helvetica,sans-Serif\" font-size=\"14.00\">worst area &lt;= 718.65</text>\n",
       "<text text-anchor=\"middle\" x=\"863.38\" y=\"-166.7\" font-family=\"Helvetica,sans-Serif\" font-size=\"14.00\">gini = 0.096</text>\n",
       "<text text-anchor=\"middle\" x=\"863.38\" y=\"-150.2\" font-family=\"Helvetica,sans-Serif\" font-size=\"14.00\">samples = 139</text>\n",
       "<text text-anchor=\"middle\" x=\"863.38\" y=\"-133.7\" font-family=\"Helvetica,sans-Serif\" font-size=\"14.00\">value = [132, 7]</text>\n",
       "<text text-anchor=\"middle\" x=\"863.38\" y=\"-117.2\" font-family=\"Helvetica,sans-Serif\" font-size=\"14.00\">class = malignant</text>\n",
       "</g>\n",
       "<!-- 8&#45;&gt;12 -->\n",
       "<g id=\"edge12\" class=\"edge\">\n",
       "<title>8&#45;&gt;12</title>\n",
       "<path fill=\"none\" stroke=\"black\" d=\"M712.2,-236.68C733.54,-225.33 756.54,-213.09 778.01,-201.67\"/>\n",
       "<polygon fill=\"black\" stroke=\"black\" points=\"779.56,-204.81 786.74,-197.02 776.27,-198.63 779.56,-204.81\"/>\n",
       "</g>\n",
       "<!-- 10 -->\n",
       "<g id=\"node11\" class=\"node\">\n",
       "<title>10</title>\n",
       "<path fill=\"#399de5\" stroke=\"black\" d=\"M637.12,-74C637.12,-74 553.62,-74 553.62,-74 547.62,-74 541.62,-68 541.62,-62 541.62,-62 541.62,-12 541.62,-12 541.62,-6 547.62,0 553.62,0 553.62,0 637.12,0 637.12,0 643.12,0 649.12,-6 649.12,-12 649.12,-12 649.12,-62 649.12,-62 649.12,-68 643.12,-74 637.12,-74\"/>\n",
       "<text text-anchor=\"middle\" x=\"595.38\" y=\"-56.7\" font-family=\"Helvetica,sans-Serif\" font-size=\"14.00\">gini = 0.0</text>\n",
       "<text text-anchor=\"middle\" x=\"595.38\" y=\"-40.2\" font-family=\"Helvetica,sans-Serif\" font-size=\"14.00\">samples = 10</text>\n",
       "<text text-anchor=\"middle\" x=\"595.38\" y=\"-23.7\" font-family=\"Helvetica,sans-Serif\" font-size=\"14.00\">value = [0, 10]</text>\n",
       "<text text-anchor=\"middle\" x=\"595.38\" y=\"-7.2\" font-family=\"Helvetica,sans-Serif\" font-size=\"14.00\">class = benign</text>\n",
       "</g>\n",
       "<!-- 9&#45;&gt;10 -->\n",
       "<g id=\"edge10\" class=\"edge\">\n",
       "<title>9&#45;&gt;10</title>\n",
       "<path fill=\"none\" stroke=\"black\" d=\"M616.33,-109.64C613.98,-101.63 611.53,-93.25 609.17,-85.17\"/>\n",
       "<polygon fill=\"black\" stroke=\"black\" points=\"612.61,-84.46 606.44,-75.85 605.89,-86.43 612.61,-84.46\"/>\n",
       "</g>\n",
       "<!-- 11 -->\n",
       "<g id=\"node12\" class=\"node\">\n",
       "<title>11</title>\n",
       "<path fill=\"#e58139\" stroke=\"black\" d=\"M779.75,-74C779.75,-74 679,-74 679,-74 673,-74 667,-68 667,-62 667,-62 667,-12 667,-12 667,-6 673,0 679,0 679,0 779.75,0 779.75,0 785.75,0 791.75,-6 791.75,-12 791.75,-12 791.75,-62 791.75,-62 791.75,-68 785.75,-74 779.75,-74\"/>\n",
       "<text text-anchor=\"middle\" x=\"729.38\" y=\"-56.7\" font-family=\"Helvetica,sans-Serif\" font-size=\"14.00\">gini = 0.0</text>\n",
       "<text text-anchor=\"middle\" x=\"729.38\" y=\"-40.2\" font-family=\"Helvetica,sans-Serif\" font-size=\"14.00\">samples = 4</text>\n",
       "<text text-anchor=\"middle\" x=\"729.38\" y=\"-23.7\" font-family=\"Helvetica,sans-Serif\" font-size=\"14.00\">value = [4, 0]</text>\n",
       "<text text-anchor=\"middle\" x=\"729.38\" y=\"-7.2\" font-family=\"Helvetica,sans-Serif\" font-size=\"14.00\">class = malignant</text>\n",
       "</g>\n",
       "<!-- 9&#45;&gt;11 -->\n",
       "<g id=\"edge11\" class=\"edge\">\n",
       "<title>9&#45;&gt;11</title>\n",
       "<path fill=\"none\" stroke=\"black\" d=\"M667.75,-109.64C675.27,-100.9 683.16,-91.73 690.69,-82.97\"/>\n",
       "<polygon fill=\"black\" stroke=\"black\" points=\"693.21,-85.4 697.08,-75.54 687.91,-80.84 693.21,-85.4\"/>\n",
       "</g>\n",
       "<!-- 13 -->\n",
       "<g id=\"node14\" class=\"node\">\n",
       "<title>13</title>\n",
       "<path fill=\"#e3f1fb\" stroke=\"black\" d=\"M905.12,-74C905.12,-74 821.62,-74 821.62,-74 815.62,-74 809.62,-68 809.62,-62 809.62,-62 809.62,-12 809.62,-12 809.62,-6 815.62,0 821.62,0 821.62,0 905.12,0 905.12,0 911.12,0 917.12,-6 917.12,-12 917.12,-12 917.12,-62 917.12,-62 917.12,-68 911.12,-74 905.12,-74\"/>\n",
       "<text text-anchor=\"middle\" x=\"863.38\" y=\"-56.7\" font-family=\"Helvetica,sans-Serif\" font-size=\"14.00\">gini = 0.497</text>\n",
       "<text text-anchor=\"middle\" x=\"863.38\" y=\"-40.2\" font-family=\"Helvetica,sans-Serif\" font-size=\"14.00\">samples = 13</text>\n",
       "<text text-anchor=\"middle\" x=\"863.38\" y=\"-23.7\" font-family=\"Helvetica,sans-Serif\" font-size=\"14.00\">value = [6, 7]</text>\n",
       "<text text-anchor=\"middle\" x=\"863.38\" y=\"-7.2\" font-family=\"Helvetica,sans-Serif\" font-size=\"14.00\">class = benign</text>\n",
       "</g>\n",
       "<!-- 12&#45;&gt;13 -->\n",
       "<g id=\"edge13\" class=\"edge\">\n",
       "<title>12&#45;&gt;13</title>\n",
       "<path fill=\"none\" stroke=\"black\" d=\"M863.38,-109.64C863.38,-101.81 863.38,-93.63 863.38,-85.72\"/>\n",
       "<polygon fill=\"black\" stroke=\"black\" points=\"866.88,-85.91 863.38,-75.91 859.88,-85.91 866.88,-85.91\"/>\n",
       "</g>\n",
       "<!-- 14 -->\n",
       "<g id=\"node15\" class=\"node\">\n",
       "<title>14</title>\n",
       "<path fill=\"#e58139\" stroke=\"black\" d=\"M1047.75,-74C1047.75,-74 947,-74 947,-74 941,-74 935,-68 935,-62 935,-62 935,-12 935,-12 935,-6 941,0 947,0 947,0 1047.75,0 1047.75,0 1053.75,0 1059.75,-6 1059.75,-12 1059.75,-12 1059.75,-62 1059.75,-62 1059.75,-68 1053.75,-74 1047.75,-74\"/>\n",
       "<text text-anchor=\"middle\" x=\"997.38\" y=\"-56.7\" font-family=\"Helvetica,sans-Serif\" font-size=\"14.00\">gini = 0.0</text>\n",
       "<text text-anchor=\"middle\" x=\"997.38\" y=\"-40.2\" font-family=\"Helvetica,sans-Serif\" font-size=\"14.00\">samples = 126</text>\n",
       "<text text-anchor=\"middle\" x=\"997.38\" y=\"-23.7\" font-family=\"Helvetica,sans-Serif\" font-size=\"14.00\">value = [126, 0]</text>\n",
       "<text text-anchor=\"middle\" x=\"997.38\" y=\"-7.2\" font-family=\"Helvetica,sans-Serif\" font-size=\"14.00\">class = malignant</text>\n",
       "</g>\n",
       "<!-- 12&#45;&gt;14 -->\n",
       "<g id=\"edge14\" class=\"edge\">\n",
       "<title>12&#45;&gt;14</title>\n",
       "<path fill=\"none\" stroke=\"black\" d=\"M914.8,-109.64C925.29,-100.53 936.33,-90.96 946.79,-81.88\"/>\n",
       "<polygon fill=\"black\" stroke=\"black\" points=\"949.02,-84.58 954.28,-75.39 944.43,-79.29 949.02,-84.58\"/>\n",
       "</g>\n",
       "</g>\n",
       "</svg>\n"
      ],
      "text/plain": [
       "<graphviz.sources.Source at 0x19595c60950>"
      ]
     },
     "execution_count": 10,
     "metadata": {},
     "output_type": "execute_result"
    }
   ],
   "source": [
    "dot_data = tree.export_graphviz(dtc\n",
    "                                ,feature_names=data.feature_names\n",
    "                                ,class_names=data.target_names\n",
    "                                ,filled=True\n",
    "                                ,rounded=True\n",
    ")\n",
    "graph = graphviz.Source(dot_data)\n",
    "graph"
   ]
  },
  {
   "cell_type": "markdown",
   "id": "cfaee043",
   "metadata": {},
   "source": [
    "#### 练习"
   ]
  },
  {
   "cell_type": "markdown",
   "id": "e70de85e",
   "metadata": {},
   "source": [
    "* 利用今天所学的方法对随机森林模型进行调参"
   ]
  },
  {
   "cell_type": "code",
   "execution_count": 69,
   "id": "f8b37fc5",
   "metadata": {
    "ExecuteTime": {
     "end_time": "2024-04-08T08:49:01.233500Z",
     "start_time": "2024-04-08T08:49:00.146065Z"
    }
   },
   "outputs": [
    {
     "data": {
      "text/plain": [
       "0.9496518987341773"
      ]
     },
     "execution_count": 69,
     "metadata": {},
     "output_type": "execute_result"
    }
   ],
   "source": [
    "from sklearn.ensemble import RandomForestClassifier as RFC\n",
    "\n",
    "rfc = RFC(n_estimators=100,random_state=42)\n",
    "score_pre = cross_val_score(rfc,X_train,y_train,cv=5).mean()\n",
    "score_pre"
   ]
  },
  {
   "cell_type": "code",
   "execution_count": null,
   "id": "0318a1ec",
   "metadata": {},
   "outputs": [],
   "source": []
  },
  {
   "cell_type": "code",
   "execution_count": null,
   "id": "2a41d2b3",
   "metadata": {},
   "outputs": [],
   "source": []
  },
  {
   "cell_type": "code",
   "execution_count": null,
   "id": "47ea4f57",
   "metadata": {},
   "outputs": [],
   "source": []
  },
  {
   "cell_type": "code",
   "execution_count": null,
   "id": "f0b94f1f",
   "metadata": {},
   "outputs": [],
   "source": []
  },
  {
   "cell_type": "code",
   "execution_count": null,
   "id": "e2b61c3b",
   "metadata": {},
   "outputs": [],
   "source": []
  },
  {
   "cell_type": "code",
   "execution_count": null,
   "id": "49e2df6e",
   "metadata": {},
   "outputs": [],
   "source": []
  },
  {
   "cell_type": "code",
   "execution_count": null,
   "id": "d451f55c",
   "metadata": {},
   "outputs": [],
   "source": []
  },
  {
   "cell_type": "code",
   "execution_count": null,
   "id": "2e2f4cf1",
   "metadata": {},
   "outputs": [],
   "source": []
  },
  {
   "cell_type": "code",
   "execution_count": null,
   "id": "868644f8",
   "metadata": {},
   "outputs": [],
   "source": []
  },
  {
   "cell_type": "code",
   "execution_count": null,
   "id": "43135282",
   "metadata": {},
   "outputs": [],
   "source": []
  },
  {
   "cell_type": "code",
   "execution_count": null,
   "id": "a242ca0b",
   "metadata": {},
   "outputs": [],
   "source": []
  },
  {
   "cell_type": "code",
   "execution_count": null,
   "id": "e9138243",
   "metadata": {},
   "outputs": [],
   "source": []
  },
  {
   "cell_type": "code",
   "execution_count": null,
   "id": "32a216c0",
   "metadata": {},
   "outputs": [],
   "source": []
  },
  {
   "cell_type": "code",
   "execution_count": null,
   "id": "8869653f",
   "metadata": {},
   "outputs": [],
   "source": []
  },
  {
   "cell_type": "code",
   "execution_count": null,
   "id": "fa3b1aaf",
   "metadata": {},
   "outputs": [],
   "source": []
  },
  {
   "cell_type": "code",
   "execution_count": null,
   "id": "53a6df51",
   "metadata": {},
   "outputs": [],
   "source": []
  },
  {
   "cell_type": "code",
   "execution_count": null,
   "id": "aee0b2c3",
   "metadata": {},
   "outputs": [],
   "source": []
  },
  {
   "cell_type": "code",
   "execution_count": null,
   "id": "ff6d91d7",
   "metadata": {},
   "outputs": [],
   "source": []
  },
  {
   "cell_type": "code",
   "execution_count": null,
   "id": "7d01d359",
   "metadata": {},
   "outputs": [],
   "source": []
  },
  {
   "cell_type": "code",
   "execution_count": null,
   "id": "3d0575c8",
   "metadata": {},
   "outputs": [],
   "source": []
  },
  {
   "cell_type": "code",
   "execution_count": null,
   "id": "12ef4aed",
   "metadata": {},
   "outputs": [],
   "source": []
  },
  {
   "cell_type": "code",
   "execution_count": null,
   "id": "d4f095dd",
   "metadata": {},
   "outputs": [],
   "source": []
  },
  {
   "cell_type": "code",
   "execution_count": null,
   "id": "a1b33380",
   "metadata": {},
   "outputs": [],
   "source": []
  },
  {
   "cell_type": "code",
   "execution_count": null,
   "id": "b188c6b5",
   "metadata": {},
   "outputs": [],
   "source": []
  },
  {
   "cell_type": "code",
   "execution_count": null,
   "id": "01e2a16e",
   "metadata": {},
   "outputs": [],
   "source": []
  },
  {
   "cell_type": "code",
   "execution_count": null,
   "id": "e4d1bab5",
   "metadata": {},
   "outputs": [],
   "source": [
    "data"
   ]
  }
 ],
 "metadata": {
  "kernelspec": {
   "display_name": "Python 3 (ipykernel)",
   "language": "python",
   "name": "python3"
  },
  "language_info": {
   "codemirror_mode": {
    "name": "ipython",
    "version": 3
   },
   "file_extension": ".py",
   "mimetype": "text/x-python",
   "name": "python",
   "nbconvert_exporter": "python",
   "pygments_lexer": "ipython3",
   "version": "3.11.7"
  },
  "toc": {
   "base_numbering": 1,
   "nav_menu": {},
   "number_sections": true,
   "sideBar": true,
   "skip_h1_title": false,
   "title_cell": "Table of Contents",
   "title_sidebar": "Contents",
   "toc_cell": false,
   "toc_position": {
    "height": "calc(100% - 180px)",
    "left": "10px",
    "top": "150px",
    "width": "409.6px"
   },
   "toc_section_display": true,
   "toc_window_display": true
  }
 },
 "nbformat": 4,
 "nbformat_minor": 5
}
